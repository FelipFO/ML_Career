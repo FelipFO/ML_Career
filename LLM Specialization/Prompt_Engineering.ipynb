{
  "nbformat": 4,
  "nbformat_minor": 0,
  "metadata": {
    "colab": {
      "provenance": []
    },
    "kernelspec": {
      "name": "python3",
      "display_name": "Python 3"
    },
    "language_info": {
      "name": "python"
    }
  },
  "cells": [
    {
      "cell_type": "code",
      "execution_count": null,
      "metadata": {
        "id": "Rcpg8U_dQ0dO"
      },
      "outputs": [],
      "source": [
        "# Installing the necessary libraries\n",
        "!pip install openai==0.28 > /dev/null"
      ]
    },
    {
      "cell_type": "code",
      "source": [
        "# Importing necessary libraries\n",
        "import openai\n",
        "import os"
      ],
      "metadata": {
        "id": "Mgv4H-kZdENJ"
      },
      "execution_count": null,
      "outputs": []
    },
    {
      "cell_type": "code",
      "source": [
        "# Importing getpass to enter the OpenAI API Key\n",
        "import getpass\n",
        "\n",
        "openai.api_key = getpass.getpass(prompt='Enter your OpenAI API Key: ')"
      ],
      "metadata": {
        "id": "WIcEwSyhdRV5",
        "colab": {
          "base_uri": "https://localhost:8080/"
        },
        "outputId": "78a1c36f-67ba-44ce-fcac-a2d5d5fa0a69"
      },
      "execution_count": null,
      "outputs": [
        {
          "name": "stdout",
          "output_type": "stream",
          "text": [
            "Enter your OpenAI API Key: ··········\n"
          ]
        }
      ]
    },
    {
      "cell_type": "code",
      "source": [
        "# Defining a function that retrieves a review using OpenAI's API\n",
        "def get_review(prompt, model=\"gpt-3.5-turbo\"):\n",
        "    messages = [{\"role\": \"user\", \"content\": prompt}]\n",
        "    response = openai.ChatCompletion.create(\n",
        "        model=model,\n",
        "        messages=messages,\n",
        "        temperature=0,\n",
        "    )\n",
        "    return response.choices[0].message[\"content\"]"
      ],
      "metadata": {
        "id": "ok7xQzxtjF44"
      },
      "execution_count": null,
      "outputs": []
    },
    {
      "cell_type": "code",
      "source": [
        "# positive review for a chrome notebook\n",
        "review_1 = \"\"\"\n",
        "I hesitate to write five-star reviews about products I've \\\n",
        "only owned for a week, and cannot comment on certain areas \\\n",
        "which would be concerns of many users. I do not use Bluetooth \\\n",
        "or the touch screen, for example. Yet I'll admit I love the new Chromebook. \\\n",
        "My previous Acer Chromebook still functioned, but there were \\\n",
        "problems with it charging, and I decided on a replacement \\\n",
        "when Amazon had a discounted price. I'm still acquainting myself \\\n",
        "with some of the new features. I love that the keyboard is not \\\n",
        "as narrow as the other, and I can 'touch type' without having to \\\n",
        "allow for a tiny gap between keys. I love that it has the number \\\n",
        "pad and delete key. I use Roku to stream to my television, and \\\n",
        "the interface works very well. Were I so inclined, the wider \\\n",
        "screen on this Chromebook could allow me to watch programmes in bed. \\\n",
        "My only problem is that, when I signed in with my WiFi and Google \\\n",
        "information, which was a simple and fast process, I later was \\\n",
        "unable to locate many of my files. \\\n",
        "I liked my other Chromebook, which I used for years - and, though \\\n",
        "I hesitate since other reviewers had problems within a short time, \\\n",
        "so far I truly love this one.\n",
        "\"\"\"\n",
        "\n",
        "# negative review for a chrome notebook\n",
        "review_2 = \"\"\"\n",
        "Bought this Chromebook for my granddaughter on their special day in October. \\\n",
        "Was a great sale. It was for a Christmas gift in December. The second \\\n",
        "week in January the laptop broke, screen went black. Since I can no longer \\\n",
        "return it because it was after the 30 days. I am stuck with a computer that \\\n",
        "does not work. The seller or Amazon will do nothing about it. What I have \\\n",
        "learned in purchasing on an Amazon special day, or pre-black Friday deals, \\\n",
        "don’t do it if you’re going to give the gift as a Christmas present. You will \\\n",
        "not be able to return it if Price goes down or breaks, found a better deal at \\\n",
        "Costco. It’s a sad shame you spent over $300. For a Chromebook that you can no \\\n",
        "longer use. Or pay another two to $300 to get it fixed. What a waste of money \\\n",
        "and a disappointed grandchild...\n",
        "\"\"\"\n",
        "\n",
        "reviews = [review_1, review_2]\n"
      ],
      "metadata": {
        "id": "Gs5Pfq-RdUVv"
      },
      "execution_count": null,
      "outputs": []
    },
    {
      "cell_type": "code",
      "source": [
        "# Iterating through the list of reviews and performing sentiment analysis on each using a template\n",
        "for i in range(len(reviews)):\n",
        "  prompt = f\"\"\"\n",
        "  Your task is to perform sentiment analysis of a product review from an ecommerce site.\n",
        "  The sentiment should be part of any of the following three categories: Negative, Neutral, Positive.\n",
        "\n",
        "  The output should look like this:\n",
        "\n",
        "  'The sentiment of the review is (sentiment)'\n",
        "\n",
        "  Review: ```{reviews[i]}```\n",
        "  \"\"\"\n",
        "\n",
        "  response = get_review(prompt)\n",
        "  print(i, response, \"\\n\")"
      ],
      "metadata": {
        "id": "DTLqFmQghh8_",
        "colab": {
          "base_uri": "https://localhost:8080/"
        },
        "outputId": "a0c68376-d5f3-4938-b87a-3b328d0f3d91"
      },
      "execution_count": null,
      "outputs": [
        {
          "output_type": "stream",
          "name": "stdout",
          "text": [
            "0 'The sentiment of the review is Positive' \n",
            "\n",
            "1 'The sentiment of the review is Negative' \n",
            "\n"
          ]
        }
      ]
    },
    {
      "cell_type": "code",
      "source": [
        "# Iterating through the list of reviews and performing translation on each using a template\n",
        "for i in range(len(reviews)):\n",
        "  prompt = f\"\"\"\n",
        "  Your task is to translate a product review from an ecommerce site to Spanish.\n",
        "\n",
        "  Review: ```{reviews[i]}```\n",
        "  \"\"\"\n",
        "\n",
        "  response = get_review(prompt)\n",
        "  print(i, response, \"\\n\")"
      ],
      "metadata": {
        "id": "xtSJEaGQiWyj",
        "colab": {
          "base_uri": "https://localhost:8080/"
        },
        "outputId": "e20e3bf8-9a67-4a1d-a667-a0475f4f73c1"
      },
      "execution_count": null,
      "outputs": [
        {
          "output_type": "stream",
          "name": "stdout",
          "text": [
            "0 Reseña: \n",
            "Dudo en escribir reseñas de cinco estrellas sobre productos que solo he tenido durante una semana, y no puedo comentar sobre ciertas áreas que serían preocupaciones de muchos usuarios. Por ejemplo, no uso Bluetooth ni la pantalla táctil. Sin embargo, debo admitir que me encanta la nueva Chromebook. Mi Chromebook Acer anterior aún funcionaba, pero tenía problemas para cargar, y decidí reemplazarlo cuando Amazon lo tenía a un precio rebajado. Todavía me estoy familiarizando con algunas de las nuevas características. Me encanta que el teclado no sea tan estrecho como el anterior, y puedo escribir sin mirar sin tener que dejar un pequeño espacio entre las teclas. Me encanta que tenga el teclado numérico y la tecla de borrar. Uso Roku para transmitir a mi televisión, y la interfaz funciona muy bien. Si quisiera, la pantalla más amplia de esta Chromebook me permitiría ver programas en la cama. Mi único problema es que, cuando inicié sesión con mi WiFi e información de Google, lo cual fue un proceso simple y rápido, luego no pude encontrar muchos de mis archivos. Me gustaba mi otra Chromebook, que usé durante años, y aunque dudo ya que otros revisores tuvieron problemas en poco tiempo, hasta ahora realmente amo esta. \n",
            "\n",
            "1 Reseña: \n",
            "Compré este Chromebook para mi nieta en su día especial en octubre. Fue una gran oferta. Era un regalo de Navidad en diciembre. La segunda semana de enero, la computadora portátil se rompió, la pantalla se puso negra. Como ya no puedo devolverlo porque pasaron los 30 días, me quedé con una computadora que no funciona. El vendedor o Amazon no harán nada al respecto. Lo que he aprendido al comprar en un día especial de Amazon, o en ofertas previas al Viernes Negro, es que no lo hagas si vas a dar el regalo en Navidad. No podrás devolverlo si el precio baja o se rompe, encontré una mejor oferta en Costco. Es una lástima haber gastado más de $300 en un Chromebook que ya no se puede usar. O pagar otros dos o trescientos dólares para arreglarlo. ¡Qué desperdicio de dinero y una nieta decepcionada... \n",
            "\n"
          ]
        }
      ]
    }
  ]
}