{
  "cells": [
    {
      "cell_type": "markdown",
      "metadata": {
        "id": "x8lQkLDyJBov"
      },
      "source": [
        "# Databases\n",
        "\n",
        "## Introduction\n",
        "\n",
        "A huge amount of data lives in databases, so it's essential that you know how to access them. Sometimes you can ask someone to download a snapshot into a .csv for you, but this gets painful quickly: every time you need to make a change you'll have to communicate with another human. You want to be able to reach into the database directly to get the data you need, when you need it.\n",
        "\n",
        "In this chapter, you'll first learn the basics of Python packages that can interact with SQL databases.\n",
        "\n",
        "## Connecting to Databases\n",
        "\n",
        "To connect to a database from Python, there are a number of options, but it does depend on what *kind* of database you are connecting to. The steps (eg connect to the database, upload data, run SQL series) are similar though, so we won't lose much by just choosing one example.\n",
        "\n",
        "SQLite is a small, fast, self-contained, SQL database engine and the most used database engine in the world. A lot of the data on your computer and mobile phone will in fact be in SQLite databases.\n",
        "\n",
        "We will always need two steps though, regardless of what kind of SQL database we are connecting to:\n",
        "\n",
        "- You'll always use a database interface that provides a connection to the database, for example Python's built-in **sqlite** package.\n",
        "- You'll also use a package that pushes and/or pulls data to/from the database, for example **pandas**.\n"
      ]
    },
    {
      "cell_type": "markdown",
      "metadata": {
        "id": "3b61a01d"
      },
      "source": [
        "## Working with Databases Directly\n",
        "\n",
        "Let's connect to a small SQLite database called the [Chinook database](https://github.com/lerocha/chinook-database), which contains information about the artists, songs, and albums from a music shop, as well as information on the shop's employees, customers, and the customers purchases. This information is contained in eleven tables. The figure below shows the data schema:\n",
        "\n",
        "For starters, let's use Python's built in **sqlite3** engine to connect to the database and execute a very simple SQL query to select the first ten entries from the 'Artists' table:"
      ]
    },
    {
      "cell_type": "code",
      "execution_count": 1,
      "metadata": {
        "id": "cvsDsA6aNHOY"
      },
      "outputs": [],
      "source": [
        "import sqlite3\n",
        "\n",
        "import pandas as pd\n"
      ]
    },
    {
      "cell_type": "code",
      "execution_count": 2,
      "metadata": {
        "id": "dEmAV7e9LnkX"
      },
      "outputs": [
        {
          "name": "stderr",
          "output_type": "stream",
          "text": [
            "Traceback (most recent call last):\n",
            "  File \"<frozen runpy>\", line 198, in _run_module_as_main\n",
            "  File \"<frozen runpy>\", line 88, in _run_code\n",
            "  File \"C:\\Users\\afeli\\anaconda3\\Scripts\\gdown.exe\\__main__.py\", line 7, in <module>\n",
            "  File \"C:\\Users\\afeli\\anaconda3\\Lib\\site-packages\\gdown\\cli.py\", line 156, in main\n",
            "    filename = download(\n",
            "               ^^^^^^^^^\n",
            "  File \"C:\\Users\\afeli\\anaconda3\\Lib\\site-packages\\gdown\\download.py\", line 259, in download\n",
            "    filename_from_url = m.groups()[0]\n",
            "                        ^^^^^^^^\n",
            "AttributeError: 'NoneType' object has no attribute 'groups'\n"
          ]
        }
      ],
      "source": [
        "# We need to firt download the .sqlite database file\n",
        "!gdown \"1Pedy3vxwYWFOJjADGYBRN2IA95glpIfF\""
      ]
    },
    {
      "cell_type": "code",
      "execution_count": 3,
      "metadata": {
        "id": "AeNv2w7XNdyK"
      },
      "outputs": [],
      "source": [
        "# We can establish a connection to the database with this command\n",
        "con = sqlite3.connect(\"Chinook_Sqlite.sqlite\")\n"
      ]
    },
    {
      "cell_type": "code",
      "execution_count": 4,
      "metadata": {
        "id": "970d2c19"
      },
      "outputs": [
        {
          "data": {
            "text/plain": [
              "[]"
            ]
          },
          "execution_count": 4,
          "metadata": {},
          "output_type": "execute_result"
        }
      ],
      "source": [
        "# List all the tables\n",
        "# First we must type the SQL command and execute it with execute()\n",
        "cursor = con.execute(\n",
        "  \"\"\"\n",
        "  SELECT name\n",
        "  FROM sqlite_master\n",
        "  WHERE type='table';\n",
        "  \"\"\"\n",
        ")\n",
        "\n",
        "# Then we can retreive the results using fetchall()\n",
        "rows = cursor.fetchall()\n",
        "rows"
      ]
    },
    {
      "cell_type": "code",
      "execution_count": 5,
      "metadata": {
        "id": "t9XFr9eONj3V"
      },
      "outputs": [
        {
          "ename": "OperationalError",
          "evalue": "no such table: Artist",
          "output_type": "error",
          "traceback": [
            "\u001b[1;31m---------------------------------------------------------------------------\u001b[0m",
            "\u001b[1;31mOperationalError\u001b[0m                          Traceback (most recent call last)",
            "Cell \u001b[1;32mIn[5], line 3\u001b[0m\n\u001b[0;32m      1\u001b[0m \u001b[38;5;66;03m# Let's see another example\u001b[39;00m\n\u001b[0;32m      2\u001b[0m \u001b[38;5;66;03m# Listing only 10 artists\u001b[39;00m\n\u001b[1;32m----> 3\u001b[0m cursor \u001b[38;5;241m=\u001b[39m con\u001b[38;5;241m.\u001b[39mexecute(\n\u001b[0;32m      4\u001b[0m \u001b[38;5;250m  \u001b[39m\u001b[38;5;124;03m\"\"\"\u001b[39;00m\n\u001b[0;32m      5\u001b[0m \u001b[38;5;124;03m  SELECT *\u001b[39;00m\n\u001b[0;32m      6\u001b[0m \u001b[38;5;124;03m  FROM Artist\u001b[39;00m\n\u001b[0;32m      7\u001b[0m \u001b[38;5;124;03m  LIMIT 10;\u001b[39;00m\n\u001b[0;32m      8\u001b[0m \u001b[38;5;124;03m  \"\"\"\u001b[39;00m\n\u001b[0;32m      9\u001b[0m )\n\u001b[0;32m     11\u001b[0m rows \u001b[38;5;241m=\u001b[39m cursor\u001b[38;5;241m.\u001b[39mfetchall()\n\u001b[0;32m     12\u001b[0m rows\n",
            "\u001b[1;31mOperationalError\u001b[0m: no such table: Artist"
          ]
        }
      ],
      "source": [
        "# Let's see another example\n",
        "# Listing only 10 artists\n",
        "cursor = con.execute(\n",
        "  \"\"\"\n",
        "  SELECT *\n",
        "  FROM Artist\n",
        "  LIMIT 10;\n",
        "  \"\"\"\n",
        ")\n",
        "\n",
        "rows = cursor.fetchall()\n",
        "rows"
      ]
    },
    {
      "cell_type": "markdown",
      "metadata": {
        "id": "2992b718"
      },
      "source": [
        "Note that the output here is in the form a Python object called a tuple. If we wanted to put this into a **pandas** dataframe, we can just pass it straight in:"
      ]
    },
    {
      "cell_type": "code",
      "execution_count": 6,
      "metadata": {
        "id": "c5871b6e"
      },
      "outputs": [
        {
          "data": {
            "text/html": [
              "<div>\n",
              "<style scoped>\n",
              "    .dataframe tbody tr th:only-of-type {\n",
              "        vertical-align: middle;\n",
              "    }\n",
              "\n",
              "    .dataframe tbody tr th {\n",
              "        vertical-align: top;\n",
              "    }\n",
              "\n",
              "    .dataframe thead th {\n",
              "        text-align: right;\n",
              "    }\n",
              "</style>\n",
              "<table border=\"1\" class=\"dataframe\">\n",
              "  <thead>\n",
              "    <tr style=\"text-align: right;\">\n",
              "      <th></th>\n",
              "    </tr>\n",
              "  </thead>\n",
              "  <tbody>\n",
              "  </tbody>\n",
              "</table>\n",
              "</div>"
            ],
            "text/plain": [
              "Empty DataFrame\n",
              "Columns: []\n",
              "Index: []"
            ]
          },
          "execution_count": 6,
          "metadata": {},
          "output_type": "execute_result"
        }
      ],
      "source": [
        "import pandas as pd\n",
        "\n",
        "pd.DataFrame(rows)"
      ]
    },
    {
      "cell_type": "markdown",
      "metadata": {
        "id": "bbbd5ba3"
      },
      "source": [
        "Another useful hint is that if you're not sure what the column names are, you can obtain them from:"
      ]
    },
    {
      "cell_type": "code",
      "execution_count": 7,
      "metadata": {
        "id": "62791eab"
      },
      "outputs": [
        {
          "data": {
            "text/plain": [
              "['name']"
            ]
          },
          "execution_count": 7,
          "metadata": {},
          "output_type": "execute_result"
        }
      ],
      "source": [
        "[i[0] for i in cursor.description]"
      ]
    },
    {
      "cell_type": "markdown",
      "metadata": {
        "id": "q622m2keS97t"
      },
      "source": [
        "Putting all togheter..."
      ]
    },
    {
      "cell_type": "code",
      "execution_count": 8,
      "metadata": {
        "id": "YkFQpFBNS-Nr"
      },
      "outputs": [
        {
          "data": {
            "text/html": [
              "<div>\n",
              "<style scoped>\n",
              "    .dataframe tbody tr th:only-of-type {\n",
              "        vertical-align: middle;\n",
              "    }\n",
              "\n",
              "    .dataframe tbody tr th {\n",
              "        vertical-align: top;\n",
              "    }\n",
              "\n",
              "    .dataframe thead th {\n",
              "        text-align: right;\n",
              "    }\n",
              "</style>\n",
              "<table border=\"1\" class=\"dataframe\">\n",
              "  <thead>\n",
              "    <tr style=\"text-align: right;\">\n",
              "      <th></th>\n",
              "      <th>name</th>\n",
              "    </tr>\n",
              "  </thead>\n",
              "  <tbody>\n",
              "  </tbody>\n",
              "</table>\n",
              "</div>"
            ],
            "text/plain": [
              "Empty DataFrame\n",
              "Columns: [name]\n",
              "Index: []"
            ]
          },
          "execution_count": 8,
          "metadata": {},
          "output_type": "execute_result"
        }
      ],
      "source": [
        "pd.DataFrame(rows, columns=[i[0] for i in cursor.description])"
      ]
    },
    {
      "cell_type": "markdown",
      "metadata": {
        "id": "304fe7e7"
      },
      "source": [
        "### Creating a Database\n",
        "\n",
        "Often, you'll want to create a SQL database to later (efficiently) access cuts of data. Let's create a test database directly using the **sqlite** package. This process involves a `CREATE TABLE` statement, then the name of the table followed by the names of the columns and their data types."
      ]
    },
    {
      "cell_type": "code",
      "execution_count": 9,
      "metadata": {
        "id": "0074d4d3"
      },
      "outputs": [],
      "source": [
        "create_query = \"\"\"CREATE TABLE test (country VARCHAR(20), gdp REAL, health INTEGER);\"\"\"\n",
        "con_new = sqlite3.connect(\"test_database.sqlite\")\n",
        "con_new.execute(create_query)\n",
        "con_new.commit()"
      ]
    },
    {
      "cell_type": "markdown",
      "metadata": {
        "id": "5abe789a"
      },
      "source": [
        "If this runs, then you've created a test database! (You can check the data directory on your own computer to see if it worked, but you'll get an error if the data directory doesn't already exist.)\n",
        "\n",
        "Let's now fill the database with some values:"
      ]
    },
    {
      "cell_type": "code",
      "execution_count": 10,
      "metadata": {
        "id": "8020a73a"
      },
      "outputs": [],
      "source": [
        "test_data = [(\"US\", 1, 3), (\"UK\", 0.6, 2), (\"France\", 0.8, 1)]\n",
        "\n",
        "con_new.executemany(\"INSERT INTO test VALUES(?, ?, ?)\", test_data)\n",
        "con_new.commit()"
      ]
    },
    {
      "cell_type": "markdown",
      "metadata": {
        "id": "798dce72"
      },
      "source": [
        "Finally, let's check if this has worked:"
      ]
    },
    {
      "cell_type": "code",
      "execution_count": 11,
      "metadata": {
        "id": "8a8354b2"
      },
      "outputs": [
        {
          "data": {
            "text/plain": [
              "[('US', 1.0, 3), ('UK', 0.6, 2), ('France', 0.8, 1)]"
            ]
          },
          "execution_count": 11,
          "metadata": {},
          "output_type": "execute_result"
        }
      ],
      "source": [
        "con_new.execute(\"SELECT * FROM test\").fetchall()"
      ]
    },
    {
      "cell_type": "markdown",
      "metadata": {
        "id": "495f97e5"
      },
      "source": [
        "## SQL with **pandas**\n",
        "\n",
        "**Pandas** is well-equipped for working with SQL. We can simply push the query we just created straight through using its `read_sql` function—but bear in mind we need to pass in the connection we created to the database too:"
      ]
    },
    {
      "cell_type": "code",
      "execution_count": 12,
      "metadata": {
        "id": "cIiiA7EQ8tRl"
      },
      "outputs": [],
      "source": [
        "con = sqlite3.connect(\"Chinook_Sqlite.sqlite\")"
      ]
    },
    {
      "cell_type": "code",
      "execution_count": 13,
      "metadata": {
        "id": "f5c83909"
      },
      "outputs": [
        {
          "ename": "DatabaseError",
          "evalue": "Execution failed on sql '\n  SELECT *\n  FROM Artist\n  LIMIT 10;\n': no such table: Artist",
          "output_type": "error",
          "traceback": [
            "\u001b[1;31m---------------------------------------------------------------------------\u001b[0m",
            "\u001b[1;31mOperationalError\u001b[0m                          Traceback (most recent call last)",
            "File \u001b[1;32mc:\\Users\\afeli\\anaconda3\\Lib\\site-packages\\pandas\\io\\sql.py:2262\u001b[0m, in \u001b[0;36mSQLiteDatabase.execute\u001b[1;34m(self, sql, params)\u001b[0m\n\u001b[0;32m   2261\u001b[0m \u001b[38;5;28;01mtry\u001b[39;00m:\n\u001b[1;32m-> 2262\u001b[0m     cur\u001b[38;5;241m.\u001b[39mexecute(sql, \u001b[38;5;241m*\u001b[39margs)\n\u001b[0;32m   2263\u001b[0m     \u001b[38;5;28;01mreturn\u001b[39;00m cur\n",
            "\u001b[1;31mOperationalError\u001b[0m: no such table: Artist",
            "\nThe above exception was the direct cause of the following exception:\n",
            "\u001b[1;31mDatabaseError\u001b[0m                             Traceback (most recent call last)",
            "Cell \u001b[1;32mIn[13], line 7\u001b[0m\n\u001b[0;32m      1\u001b[0m sql_top10_artists \u001b[38;5;241m=\u001b[39m \u001b[38;5;124m\"\"\"\u001b[39m\n\u001b[0;32m      2\u001b[0m \u001b[38;5;124m  SELECT *\u001b[39m\n\u001b[0;32m      3\u001b[0m \u001b[38;5;124m  FROM Artist\u001b[39m\n\u001b[0;32m      4\u001b[0m \u001b[38;5;124m  LIMIT 10;\u001b[39m\n\u001b[0;32m      5\u001b[0m \u001b[38;5;124m\"\"\"\u001b[39m\n\u001b[1;32m----> 7\u001b[0m df_top10_artists \u001b[38;5;241m=\u001b[39m pd\u001b[38;5;241m.\u001b[39mread_sql(sql_top10_artists, con)\n\u001b[0;32m      8\u001b[0m df_top10_artists\n",
            "File \u001b[1;32mc:\\Users\\afeli\\anaconda3\\Lib\\site-packages\\pandas\\io\\sql.py:654\u001b[0m, in \u001b[0;36mread_sql\u001b[1;34m(sql, con, index_col, coerce_float, params, parse_dates, columns, chunksize, dtype_backend, dtype)\u001b[0m\n\u001b[0;32m    652\u001b[0m \u001b[38;5;28;01mwith\u001b[39;00m pandasSQL_builder(con) \u001b[38;5;28;01mas\u001b[39;00m pandas_sql:\n\u001b[0;32m    653\u001b[0m     \u001b[38;5;28;01mif\u001b[39;00m \u001b[38;5;28misinstance\u001b[39m(pandas_sql, SQLiteDatabase):\n\u001b[1;32m--> 654\u001b[0m         \u001b[38;5;28;01mreturn\u001b[39;00m pandas_sql\u001b[38;5;241m.\u001b[39mread_query(\n\u001b[0;32m    655\u001b[0m             sql,\n\u001b[0;32m    656\u001b[0m             index_col\u001b[38;5;241m=\u001b[39mindex_col,\n\u001b[0;32m    657\u001b[0m             params\u001b[38;5;241m=\u001b[39mparams,\n\u001b[0;32m    658\u001b[0m             coerce_float\u001b[38;5;241m=\u001b[39mcoerce_float,\n\u001b[0;32m    659\u001b[0m             parse_dates\u001b[38;5;241m=\u001b[39mparse_dates,\n\u001b[0;32m    660\u001b[0m             chunksize\u001b[38;5;241m=\u001b[39mchunksize,\n\u001b[0;32m    661\u001b[0m             dtype_backend\u001b[38;5;241m=\u001b[39mdtype_backend,\n\u001b[0;32m    662\u001b[0m             dtype\u001b[38;5;241m=\u001b[39mdtype,\n\u001b[0;32m    663\u001b[0m         )\n\u001b[0;32m    665\u001b[0m     \u001b[38;5;28;01mtry\u001b[39;00m:\n\u001b[0;32m    666\u001b[0m         _is_table_name \u001b[38;5;241m=\u001b[39m pandas_sql\u001b[38;5;241m.\u001b[39mhas_table(sql)\n",
            "File \u001b[1;32mc:\\Users\\afeli\\anaconda3\\Lib\\site-packages\\pandas\\io\\sql.py:2326\u001b[0m, in \u001b[0;36mSQLiteDatabase.read_query\u001b[1;34m(self, sql, index_col, coerce_float, parse_dates, params, chunksize, dtype, dtype_backend)\u001b[0m\n\u001b[0;32m   2315\u001b[0m \u001b[38;5;28;01mdef\u001b[39;00m \u001b[38;5;21mread_query\u001b[39m(\n\u001b[0;32m   2316\u001b[0m     \u001b[38;5;28mself\u001b[39m,\n\u001b[0;32m   2317\u001b[0m     sql,\n\u001b[1;32m   (...)\u001b[0m\n\u001b[0;32m   2324\u001b[0m     dtype_backend: DtypeBackend \u001b[38;5;241m|\u001b[39m Literal[\u001b[38;5;124m\"\u001b[39m\u001b[38;5;124mnumpy\u001b[39m\u001b[38;5;124m\"\u001b[39m] \u001b[38;5;241m=\u001b[39m \u001b[38;5;124m\"\u001b[39m\u001b[38;5;124mnumpy\u001b[39m\u001b[38;5;124m\"\u001b[39m,\n\u001b[0;32m   2325\u001b[0m ) \u001b[38;5;241m-\u001b[39m\u001b[38;5;241m>\u001b[39m DataFrame \u001b[38;5;241m|\u001b[39m Iterator[DataFrame]:\n\u001b[1;32m-> 2326\u001b[0m     cursor \u001b[38;5;241m=\u001b[39m \u001b[38;5;28mself\u001b[39m\u001b[38;5;241m.\u001b[39mexecute(sql, params)\n\u001b[0;32m   2327\u001b[0m     columns \u001b[38;5;241m=\u001b[39m [col_desc[\u001b[38;5;241m0\u001b[39m] \u001b[38;5;28;01mfor\u001b[39;00m col_desc \u001b[38;5;129;01min\u001b[39;00m cursor\u001b[38;5;241m.\u001b[39mdescription]\n\u001b[0;32m   2329\u001b[0m     \u001b[38;5;28;01mif\u001b[39;00m chunksize \u001b[38;5;129;01mis\u001b[39;00m \u001b[38;5;129;01mnot\u001b[39;00m \u001b[38;5;28;01mNone\u001b[39;00m:\n",
            "File \u001b[1;32mc:\\Users\\afeli\\anaconda3\\Lib\\site-packages\\pandas\\io\\sql.py:2274\u001b[0m, in \u001b[0;36mSQLiteDatabase.execute\u001b[1;34m(self, sql, params)\u001b[0m\n\u001b[0;32m   2271\u001b[0m     \u001b[38;5;28;01mraise\u001b[39;00m ex \u001b[38;5;28;01mfrom\u001b[39;00m \u001b[38;5;21;01minner_exc\u001b[39;00m\n\u001b[0;32m   2273\u001b[0m ex \u001b[38;5;241m=\u001b[39m DatabaseError(\u001b[38;5;124mf\u001b[39m\u001b[38;5;124m\"\u001b[39m\u001b[38;5;124mExecution failed on sql \u001b[39m\u001b[38;5;124m'\u001b[39m\u001b[38;5;132;01m{\u001b[39;00msql\u001b[38;5;132;01m}\u001b[39;00m\u001b[38;5;124m'\u001b[39m\u001b[38;5;124m: \u001b[39m\u001b[38;5;132;01m{\u001b[39;00mexc\u001b[38;5;132;01m}\u001b[39;00m\u001b[38;5;124m\"\u001b[39m)\n\u001b[1;32m-> 2274\u001b[0m \u001b[38;5;28;01mraise\u001b[39;00m ex \u001b[38;5;28;01mfrom\u001b[39;00m \u001b[38;5;21;01mexc\u001b[39;00m\n",
            "\u001b[1;31mDatabaseError\u001b[0m: Execution failed on sql '\n  SELECT *\n  FROM Artist\n  LIMIT 10;\n': no such table: Artist"
          ]
        }
      ],
      "source": [
        "sql_top10_artists = \"\"\"\n",
        "  SELECT *\n",
        "  FROM Artist\n",
        "  LIMIT 10;\n",
        "\"\"\"\n",
        "\n",
        "df_top10_artists = pd.read_sql(sql_top10_artists, con)\n",
        "df_top10_artists"
      ]
    },
    {
      "cell_type": "markdown",
      "metadata": {
        "id": "2bb51bf6"
      },
      "source": [
        "One nice feature of this is that the column names in SQL get passed straight to the column names in our dataframe."
      ]
    },
    {
      "cell_type": "markdown",
      "metadata": {
        "id": "HfiFs_xBZsEu"
      },
      "source": [
        "### Creating a SQL Table from Pandas Dataframe\n",
        "\n",
        "Now I will use the table above to show how you can also create your own tables in the SQLite Database using pandas:\n"
      ]
    },
    {
      "cell_type": "code",
      "execution_count": 14,
      "metadata": {
        "id": "_IWWfFeaHKQB"
      },
      "outputs": [
        {
          "ename": "NameError",
          "evalue": "name 'df_top10_artists' is not defined",
          "output_type": "error",
          "traceback": [
            "\u001b[1;31m---------------------------------------------------------------------------\u001b[0m",
            "\u001b[1;31mNameError\u001b[0m                                 Traceback (most recent call last)",
            "Cell \u001b[1;32mIn[14], line 1\u001b[0m\n\u001b[1;32m----> 1\u001b[0m df_top10_artists\u001b[38;5;241m.\u001b[39mto_sql(\u001b[38;5;124m'\u001b[39m\u001b[38;5;124mTop10_Artist\u001b[39m\u001b[38;5;124m'\u001b[39m, con)\n",
            "\u001b[1;31mNameError\u001b[0m: name 'df_top10_artists' is not defined"
          ]
        }
      ],
      "source": [
        "df_top10_artists.to_sql('Top10_Artist', con)\n"
      ]
    },
    {
      "cell_type": "code",
      "execution_count": null,
      "metadata": {
        "id": "QNxm4NEDHKN7"
      },
      "outputs": [],
      "source": [
        "# List all the tables, Top10_Artist should be included now\n",
        "sql_list_tables = \"\"\"\n",
        "  SELECT name\n",
        "  FROM sqlite_master\n",
        "  WHERE type='table';\n",
        "  \"\"\"\n",
        "\n",
        "pd.read_sql(sql_list_tables, con)\n"
      ]
    },
    {
      "cell_type": "markdown",
      "metadata": {
        "id": "l8gQI7BAagSe"
      },
      "source": [
        "### Examples of SQL queries with Pandas"
      ]
    },
    {
      "cell_type": "code",
      "execution_count": null,
      "metadata": {
        "id": "olGjF2v7HKLk"
      },
      "outputs": [],
      "source": [
        "sql_query = \"\"\"\n",
        "-- SELECT example: Select InvoiceId, BillingAddress and BillingCity columns from Invoice table. (This is a comment and won’t be executed)\n",
        "SELECT InvoiceId, BillingAddress, BillingCity\n",
        "FROM Invoice;\n",
        "\"\"\"\n",
        "\n",
        "pd.read_sql(sql_query, con)"
      ]
    },
    {
      "cell_type": "code",
      "execution_count": null,
      "metadata": {
        "id": "eywDva-tHKI_"
      },
      "outputs": [],
      "source": [
        "sql_query = \"\"\"\n",
        "-- WHERE example: Select all the invoices billed from Argentina in which the spent value is over $5\n",
        "SELECT *\n",
        "FROM Invoice\n",
        "WHERE Invoice.BillingCountry = 'Argentina' AND Invoice.Total > 5;\n",
        "\"\"\"\n",
        "\n",
        "pd.read_sql(sql_query, con)"
      ]
    },
    {
      "cell_type": "code",
      "execution_count": null,
      "metadata": {
        "id": "SG-EyGBZHKGZ"
      },
      "outputs": [],
      "source": [
        "sql_query = \"\"\"\n",
        "-- More complex example with alias\n",
        "SELECT *\n",
        "FROM Customer as c, Invoice AS i\n",
        "WHERE c.FirstName = 'Mark' AND c.CustomerId = i.CustomerId;\n",
        "\"\"\"\n",
        "\n",
        "pd.read_sql(sql_query, con)"
      ]
    },
    {
      "cell_type": "code",
      "execution_count": null,
      "metadata": {
        "id": "GQPv3JmCgSDb"
      },
      "outputs": [],
      "source": [
        "sql_query = \"\"\"\n",
        "-- GROUP BY example: Number of sales and average amount spent by Country during 2010\n",
        "SELECT COUNT(*) as Sales_by_Country, AVG(i.Total) as Average_spent, i.BillingCountry as Country\n",
        "FROM Invoice AS i\n",
        "WHERE i.InvoiceDate BETWEEN '2010-01-01 00:00:00' and '2010-31-12 00:00:00'\n",
        "GROUP BY i.BillingCountry\n",
        "ORDER BY Sales_by_Country DESC;\n",
        "\"\"\"\n",
        "\n",
        "pd.read_sql(sql_query, con)\n"
      ]
    },
    {
      "cell_type": "code",
      "execution_count": null,
      "metadata": {
        "id": "7OrRDEySg5Uw"
      },
      "outputs": [],
      "source": [
        "sql_query = \"\"\"\n",
        "-- GROUP BY example: Number of sales and average amount spent by Country, only for those who had more than 10 sales\n",
        "SELECT COUNT(*) as Sales_by_Country, AVG(i.Total) as Average_spent, i.BillingCountry as Country\n",
        "FROM Invoice AS i\n",
        "GROUP BY i.BillingCountry\n",
        "HAVING Sales_by_Country > 10\n",
        "ORDER BY Sales_by_Country DESC;\n",
        "\"\"\"\n",
        "\n",
        "pd.read_sql(sql_query, con)"
      ]
    },
    {
      "cell_type": "code",
      "execution_count": null,
      "metadata": {
        "id": "bI6waJhbgR_y"
      },
      "outputs": [],
      "source": [
        "sql_query = \"\"\"\n",
        "-- CASE + GRUOP BY example: Count Tracks by Quality\n",
        "SELECT case_result.AudioQuality, COUNT(*) FROM (\n",
        "    SELECT *,\n",
        "    (CASE\n",
        "    \tWHEN Track.Bytes < 2000000 THEN 'Poor-Quality'\n",
        "        WHEN Track.Bytes >= 2000000 AND Track.Bytes <= 8000000 THEN 'Mid-Quality'\n",
        "        WHEN Track.Bytes > 8000000 THEN 'High-Quality'\n",
        "    END) AS AudioQuality\n",
        "    FROM Track\n",
        "    ORDER BY Track.Bytes ASC\n",
        ") AS case_result\n",
        "GROUP BY case_result.AudioQuality;\n",
        "\"\"\"\n",
        "\n",
        "pd.read_sql(sql_query, con)"
      ]
    },
    {
      "cell_type": "code",
      "execution_count": null,
      "metadata": {
        "id": "ikH_j2ytgR9c"
      },
      "outputs": [],
      "source": [
        "sql_query = \"\"\"\n",
        "-- INNER JOIN: Employee asigned to each Customer\n",
        "SELECT c.CustomerId, e.EmployeeId, e.FirstName, e.LastName, e.Title\n",
        "FROM Customer AS c\n",
        "INNER JOIN Employee as e\n",
        "ON c.SupportRepId = e.EmployeeId;\n",
        "\"\"\"\n",
        "\n",
        "pd.read_sql(sql_query, con)"
      ]
    },
    {
      "cell_type": "code",
      "execution_count": null,
      "metadata": {
        "id": "718wR3wYhEmg"
      },
      "outputs": [],
      "source": []
    }
  ],
  "metadata": {
    "colab": {
      "provenance": [],
      "toc_visible": true
    },
    "kernelspec": {
      "display_name": "Python 3",
      "name": "python3"
    },
    "language_info": {
      "codemirror_mode": {
        "name": "ipython",
        "version": 3
      },
      "file_extension": ".py",
      "mimetype": "text/x-python",
      "name": "python",
      "nbconvert_exporter": "python",
      "pygments_lexer": "ipython3",
      "version": "3.11.5"
    }
  },
  "nbformat": 4,
  "nbformat_minor": 0
}
