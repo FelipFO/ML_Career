{
  "cells": [
    {
      "cell_type": "code",
      "execution_count": null,
      "metadata": {
        "id": "u8NFgxswsoM3"
      },
      "outputs": [],
      "source": [
        "import seaborn as sns\n",
        "import numpy as np\n",
        "import pandas as pd\n",
        "import matplotlib.pyplot as plt\n",
        "from scipy import stats\n",
        "from statsmodels.distributions.empirical_distribution import ECDF\n"
      ]
    },
    {
      "cell_type": "markdown",
      "metadata": {
        "id": "VjM_w_S-Vmmr"
      },
      "source": [
        "# Discrete Random Variable\n",
        "\n",
        "Let's see for the Die example, how it's PMF and CDF looks like.\n",
        "\n",
        "Given a population, we can get it Empirical CDF function using `statsmodels` library.\n",
        "\n",
        "We can also easily plot the Empirical CDF using `seaborn.ecdfplot`."
      ]
    },
    {
      "cell_type": "code",
      "execution_count": null,
      "metadata": {
        "colab": {
          "base_uri": "https://localhost:8080/",
          "height": 281
        },
        "id": "BW0nW5KdW89e",
        "outputId": "ba365eec-e0bc-463f-9108-d093d1f568cc"
      },
      "outputs": [
        {
          "data": {
            "image/png": "[encoded data removed]",
            "text/plain": [
              "<Figure size 432x288 with 1 Axes>"
            ]
          },
          "metadata": {
            "needs_background": "light"
          },
          "output_type": "display_data"
        }
      ],
      "source": [
        "# Possible outcomes, all with the same probability\n",
        "die_faces = np.array([1,2,3,4,5,6])\n",
        "\n",
        "# Probability distribution for a die (PMF)\n",
        "sns.histplot(die_faces, bins=list(range(1,8)), stat='probability').set_title(f'Probability Distribution')\n",
        "plt.show()"
      ]
    },
    {
      "cell_type": "code",
      "execution_count": null,
      "metadata": {
        "colab": {
          "base_uri": "https://localhost:8080/"
        },
        "id": "JbvOnc-JXfTh",
        "outputId": "bb96667c-9a23-4d41-9561-6d6088271bb4"
      },
      "outputs": [
        {
          "name": "stdout",
          "output_type": "stream",
          "text": [
            "0.16666666666666666\n",
            "0.5\n"
          ]
        },
        {
          "data": {
            "text/plain": [
              "0.5"
            ]
          },
          "execution_count": 7,
          "metadata": {},
          "output_type": "execute_result"
        }
      ],
      "source": [
        "# We can get the ECDF function just using:\n",
        "ecdf = ECDF(die_faces)\n",
        "\n",
        "# And now we can use it to get cumulative probabilities\n",
        "# For example P(X <= 1), probability of getting at least a 1\n",
        "print(ecdf(1))\n",
        "\n",
        "# P(X <= 3), probability of getting at least a 3\n",
        "print(ecdf(3))\n",
        "\n",
        "# P(1 < X <= 4) = P(2 <= X <= 4)\n",
        "ecdf(4) - ecdf(1)\n"
      ]
    },
    {
      "cell_type": "code",
      "execution_count": null,
      "metadata": {
        "colab": {
          "base_uri": "https://localhost:8080/",
          "height": 312
        },
        "id": "o7el6d4vswR5",
        "outputId": "fd402acf-1c4f-46d0-bd19-bf02e635f515"
      },
      "outputs": [
        {
          "data": {
            "text/plain": [
              "[]"
            ]
          },
          "execution_count": 5,
          "metadata": {},
          "output_type": "execute_result"
        },
        {
          "data": {
            "image/png": "[encoded data removed]",
            "text/plain": [
              "<Figure size 432x288 with 1 Axes>"
            ]
          },
          "metadata": {
            "needs_background": "light"
          },
          "output_type": "display_data"
        }
      ],
      "source": [
        "# Let's plot the ECDF with Seaborn\n",
        "sns.ecdfplot(die_faces).set(\n",
        "    title=\"Cumulative distribution function\",\n",
        "    xlabel=\"Die faces\",\n",
        "    ylabel=\"Cumulative probability\",\n",
        ")\n",
        "plt.plot()"
      ]
    },
    {
      "cell_type": "code",
      "execution_count": null,
      "metadata": {
        "colab": {
          "base_uri": "https://localhost:8080/",
          "height": 312
        },
        "id": "BpOgR7yjSp5q",
        "outputId": "c34736e4-9d74-4624-dd40-d2f7968bcf77"
      },
      "outputs": [
        {
          "data": {
            "text/plain": [
              "[]"
            ]
          },
          "execution_count": 9,
          "metadata": {},
          "output_type": "execute_result"
        },
        {
          "data": {
            "image/png": "[encoded data removed]",
            "text/plain": [
              "<Figure size 432x288 with 1 Axes>"
            ]
          },
          "metadata": {
            "needs_background": "light"
          },
          "output_type": "display_data"
        }
      ],
      "source": [
        "# Let's plot the ECDF with Seaborn\n",
        "sns.ecdfplot(die_faces, complementary=True).set(\n",
        "    title=\"Cumulative distribution function\",\n",
        "    xlabel=\"Die faces\",\n",
        "    ylabel=\"Cumulative probability\",\n",
        ")\n",
        "plt.plot()"
      ]
    },
    {
      "cell_type": "markdown",
      "metadata": {
        "id": "TMqweBzOgAab"
      },
      "source": [
        "### Discrete Random Variable and Messi stats"
      ]
    },
    {
      "cell_type": "code",
      "execution_count": null,
      "metadata": {
        "colab": {
          "base_uri": "https://localhost:8080/",
          "height": 765
        },
        "id": "DAK0bL9YZDVF",
        "outputId": "63a6ec27-b4c1-4277-87f1-db2424951d4f"
      },
      "outputs": [
        {
          "data": {
            "text/html": [
              "\n",
              "  <div id=\"df-c15f355d-8f96-41a6-bb22-be6660032319\">\n",
              "    <div class=\"colab-df-container\">\n",
              "      <div>\n",
              "<style scoped>\n",
              "    .dataframe tbody tr th:only-of-type {\n",
              "        vertical-align: middle;\n",
              "    }\n",
              "\n",
              "    .dataframe tbody tr th {\n",
              "        vertical-align: top;\n",
              "    }\n",
              "\n",
              "    .dataframe thead th {\n",
              "        text-align: right;\n",
              "    }\n",
              "</style>\n",
              "<table border=\"1\" class=\"dataframe\">\n",
              "  <thead>\n",
              "    <tr style=\"text-align: right;\">\n",
              "      <th></th>\n",
              "      <th>Unnamed: 0</th>\n",
              "      <th>id_odsp</th>\n",
              "      <th>link_odsp</th>\n",
              "      <th>adv_stats</th>\n",
              "      <th>date</th>\n",
              "      <th>league</th>\n",
              "      <th>season</th>\n",
              "      <th>country</th>\n",
              "      <th>ht</th>\n",
              "      <th>at</th>\n",
              "      <th>...</th>\n",
              "      <th>player_in</th>\n",
              "      <th>player_out</th>\n",
              "      <th>shot_place</th>\n",
              "      <th>shot_outcome</th>\n",
              "      <th>is_goal</th>\n",
              "      <th>location</th>\n",
              "      <th>bodypart</th>\n",
              "      <th>assist_method</th>\n",
              "      <th>situation</th>\n",
              "      <th>fast_break</th>\n",
              "    </tr>\n",
              "  </thead>\n",
              "  <tbody>\n",
              "    <tr>\n",
              "      <th>0</th>\n",
              "      <td>9142</td>\n",
              "      <td>2mfCxQlt/</td>\n",
              "      <td>/soccer/spain/primera-division-2011-2012/barce...</td>\n",
              "      <td>True</td>\n",
              "      <td>2011-08-29</td>\n",
              "      <td>SP1</td>\n",
              "      <td>2012</td>\n",
              "      <td>spain</td>\n",
              "      <td>Barcelona</td>\n",
              "      <td>Villarreal</td>\n",
              "      <td>...</td>\n",
              "      <td>NaN</td>\n",
              "      <td>NaN</td>\n",
              "      <td>NaN</td>\n",
              "      <td>NaN</td>\n",
              "      <td>0.0</td>\n",
              "      <td>NaN</td>\n",
              "      <td>NaN</td>\n",
              "      <td>None</td>\n",
              "      <td>NaN</td>\n",
              "      <td>0.0</td>\n",
              "    </tr>\n",
              "    <tr>\n",
              "      <th>1</th>\n",
              "      <td>9147</td>\n",
              "      <td>2mfCxQlt/</td>\n",
              "      <td>/soccer/spain/primera-division-2011-2012/barce...</td>\n",
              "      <td>True</td>\n",
              "      <td>2011-08-29</td>\n",
              "      <td>SP1</td>\n",
              "      <td>2012</td>\n",
              "      <td>spain</td>\n",
              "      <td>Barcelona</td>\n",
              "      <td>Villarreal</td>\n",
              "      <td>...</td>\n",
              "      <td>NaN</td>\n",
              "      <td>NaN</td>\n",
              "      <td>Bottom left corner</td>\n",
              "      <td>On target</td>\n",
              "      <td>0.0</td>\n",
              "      <td>Difficult angle on the left</td>\n",
              "      <td>left foot</td>\n",
              "      <td>Pass</td>\n",
              "      <td>Open play</td>\n",
              "      <td>0.0</td>\n",
              "    </tr>\n",
              "    <tr>\n",
              "      <th>2</th>\n",
              "      <td>9151</td>\n",
              "      <td>2mfCxQlt/</td>\n",
              "      <td>/soccer/spain/primera-division-2011-2012/barce...</td>\n",
              "      <td>True</td>\n",
              "      <td>2011-08-29</td>\n",
              "      <td>SP1</td>\n",
              "      <td>2012</td>\n",
              "      <td>spain</td>\n",
              "      <td>Barcelona</td>\n",
              "      <td>Villarreal</td>\n",
              "      <td>...</td>\n",
              "      <td>NaN</td>\n",
              "      <td>NaN</td>\n",
              "      <td>Bottom right corner</td>\n",
              "      <td>On target</td>\n",
              "      <td>0.0</td>\n",
              "      <td>Outside the box</td>\n",
              "      <td>left foot</td>\n",
              "      <td>None</td>\n",
              "      <td>Open play</td>\n",
              "      <td>0.0</td>\n",
              "    </tr>\n",
              "    <tr>\n",
              "      <th>3</th>\n",
              "      <td>9155</td>\n",
              "      <td>2mfCxQlt/</td>\n",
              "      <td>/soccer/spain/primera-division-2011-2012/barce...</td>\n",
              "      <td>True</td>\n",
              "      <td>2011-08-29</td>\n",
              "      <td>SP1</td>\n",
              "      <td>2012</td>\n",
              "      <td>spain</td>\n",
              "      <td>Barcelona</td>\n",
              "      <td>Villarreal</td>\n",
              "      <td>...</td>\n",
              "      <td>NaN</td>\n",
              "      <td>NaN</td>\n",
              "      <td>NaN</td>\n",
              "      <td>NaN</td>\n",
              "      <td>0.0</td>\n",
              "      <td>Attacking half</td>\n",
              "      <td>NaN</td>\n",
              "      <td>None</td>\n",
              "      <td>NaN</td>\n",
              "      <td>0.0</td>\n",
              "    </tr>\n",
              "    <tr>\n",
              "      <th>4</th>\n",
              "      <td>9164</td>\n",
              "      <td>2mfCxQlt/</td>\n",
              "      <td>/soccer/spain/primera-division-2011-2012/barce...</td>\n",
              "      <td>True</td>\n",
              "      <td>2011-08-29</td>\n",
              "      <td>SP1</td>\n",
              "      <td>2012</td>\n",
              "      <td>spain</td>\n",
              "      <td>Barcelona</td>\n",
              "      <td>Villarreal</td>\n",
              "      <td>...</td>\n",
              "      <td>NaN</td>\n",
              "      <td>NaN</td>\n",
              "      <td>NaN</td>\n",
              "      <td>NaN</td>\n",
              "      <td>0.0</td>\n",
              "      <td>Attacking half</td>\n",
              "      <td>NaN</td>\n",
              "      <td>None</td>\n",
              "      <td>NaN</td>\n",
              "      <td>0.0</td>\n",
              "    </tr>\n",
              "    <tr>\n",
              "      <th>...</th>\n",
              "      <td>...</td>\n",
              "      <td>...</td>\n",
              "      <td>...</td>\n",
              "      <td>...</td>\n",
              "      <td>...</td>\n",
              "      <td>...</td>\n",
              "      <td>...</td>\n",
              "      <td>...</td>\n",
              "      <td>...</td>\n",
              "      <td>...</td>\n",
              "      <td>...</td>\n",
              "      <td>...</td>\n",
              "      <td>...</td>\n",
              "      <td>...</td>\n",
              "      <td>...</td>\n",
              "      <td>...</td>\n",
              "      <td>...</td>\n",
              "      <td>...</td>\n",
              "      <td>...</td>\n",
              "      <td>...</td>\n",
              "      <td>...</td>\n",
              "    </tr>\n",
              "    <tr>\n",
              "      <th>1463</th>\n",
              "      <td>940475</td>\n",
              "      <td>G0pLytmF/</td>\n",
              "      <td>/soccer/spain/laliga/eibar-barcelona-G0pLytmF/</td>\n",
              "      <td>True</td>\n",
              "      <td>2017-01-22</td>\n",
              "      <td>SP1</td>\n",
              "      <td>2017</td>\n",
              "      <td>spain</td>\n",
              "      <td>Eibar</td>\n",
              "      <td>Barcelona</td>\n",
              "      <td>...</td>\n",
              "      <td>NaN</td>\n",
              "      <td>NaN</td>\n",
              "      <td>NaN</td>\n",
              "      <td>NaN</td>\n",
              "      <td>0.0</td>\n",
              "      <td>Attacking half</td>\n",
              "      <td>NaN</td>\n",
              "      <td>None</td>\n",
              "      <td>NaN</td>\n",
              "      <td>0.0</td>\n",
              "    </tr>\n",
              "    <tr>\n",
              "      <th>1464</th>\n",
              "      <td>940476</td>\n",
              "      <td>G0pLytmF/</td>\n",
              "      <td>/soccer/spain/laliga/eibar-barcelona-G0pLytmF/</td>\n",
              "      <td>True</td>\n",
              "      <td>2017-01-22</td>\n",
              "      <td>SP1</td>\n",
              "      <td>2017</td>\n",
              "      <td>spain</td>\n",
              "      <td>Eibar</td>\n",
              "      <td>Barcelona</td>\n",
              "      <td>...</td>\n",
              "      <td>NaN</td>\n",
              "      <td>NaN</td>\n",
              "      <td>Bottom left corner</td>\n",
              "      <td>On target</td>\n",
              "      <td>0.0</td>\n",
              "      <td>Outside the box</td>\n",
              "      <td>left foot</td>\n",
              "      <td>None</td>\n",
              "      <td>Open play</td>\n",
              "      <td>0.0</td>\n",
              "    </tr>\n",
              "    <tr>\n",
              "      <th>1465</th>\n",
              "      <td>940478</td>\n",
              "      <td>G0pLytmF/</td>\n",
              "      <td>/soccer/spain/laliga/eibar-barcelona-G0pLytmF/</td>\n",
              "      <td>True</td>\n",
              "      <td>2017-01-22</td>\n",
              "      <td>SP1</td>\n",
              "      <td>2017</td>\n",
              "      <td>spain</td>\n",
              "      <td>Eibar</td>\n",
              "      <td>Barcelona</td>\n",
              "      <td>...</td>\n",
              "      <td>NaN</td>\n",
              "      <td>NaN</td>\n",
              "      <td>Blocked</td>\n",
              "      <td>Blocked</td>\n",
              "      <td>0.0</td>\n",
              "      <td>Outside the box</td>\n",
              "      <td>left foot</td>\n",
              "      <td>Pass</td>\n",
              "      <td>Open play</td>\n",
              "      <td>0.0</td>\n",
              "    </tr>\n",
              "    <tr>\n",
              "      <th>1466</th>\n",
              "      <td>940500</td>\n",
              "      <td>G0pLytmF/</td>\n",
              "      <td>/soccer/spain/laliga/eibar-barcelona-G0pLytmF/</td>\n",
              "      <td>True</td>\n",
              "      <td>2017-01-22</td>\n",
              "      <td>SP1</td>\n",
              "      <td>2017</td>\n",
              "      <td>spain</td>\n",
              "      <td>Eibar</td>\n",
              "      <td>Barcelona</td>\n",
              "      <td>...</td>\n",
              "      <td>NaN</td>\n",
              "      <td>NaN</td>\n",
              "      <td>Bottom left corner</td>\n",
              "      <td>On target</td>\n",
              "      <td>1.0</td>\n",
              "      <td>Centre of the box</td>\n",
              "      <td>left foot</td>\n",
              "      <td>Through ball</td>\n",
              "      <td>Open play</td>\n",
              "      <td>0.0</td>\n",
              "    </tr>\n",
              "    <tr>\n",
              "      <th>1467</th>\n",
              "      <td>940503</td>\n",
              "      <td>G0pLytmF/</td>\n",
              "      <td>/soccer/spain/laliga/eibar-barcelona-G0pLytmF/</td>\n",
              "      <td>True</td>\n",
              "      <td>2017-01-22</td>\n",
              "      <td>SP1</td>\n",
              "      <td>2017</td>\n",
              "      <td>spain</td>\n",
              "      <td>Eibar</td>\n",
              "      <td>Barcelona</td>\n",
              "      <td>...</td>\n",
              "      <td>NaN</td>\n",
              "      <td>NaN</td>\n",
              "      <td>NaN</td>\n",
              "      <td>NaN</td>\n",
              "      <td>0.0</td>\n",
              "      <td>Defensive half</td>\n",
              "      <td>NaN</td>\n",
              "      <td>None</td>\n",
              "      <td>NaN</td>\n",
              "      <td>0.0</td>\n",
              "    </tr>\n",
              "  </tbody>\n",
              "</table>\n",
              "<p>1468 rows × 40 columns</p>\n",
              "</div>\n",
              "      <button class=\"colab-df-convert\" onclick=\"convertToInteractive('df-c15f355d-8f96-41a6-bb22-be6660032319')\"\n",
              "              title=\"Convert this dataframe to an interactive table.\"\n",
              "              style=\"display:none;\">\n",
              "        \n",
              "  <svg xmlns=\"http://www.w3.org/2000/svg\" height=\"24px\"viewBox=\"0 0 24 24\"\n",
              "       width=\"24px\">\n",
              "    <path d=\"M0 0h24v24H0V0z\" fill=\"none\"/>\n",
              "    <path d=\"M18.56 5.44l.94 2.06.94-2.06 2.06-.94-2.06-.94-.94-2.06-.94 2.06-2.06.94zm-11 1L8.5 8.5l.94-2.06 2.06-.94-2.06-.94L8.5 2.5l-.94 2.06-2.06.94zm10 10l.94 2.06.94-2.06 2.06-.94-2.06-.94-.94-2.06-.94 2.06-2.06.94z\"/><path d=\"M17.41 7.96l-1.37-1.37c-.4-.4-.92-.59-1.43-.59-.52 0-1.04.2-1.43.59L10.3 9.45l-7.72 7.72c-.78.78-.78 2.05 0 2.83L4 21.41c.39.39.9.59 1.41.59.51 0 1.02-.2 1.41-.59l7.78-7.78 2.81-2.81c.8-.78.8-2.07 0-2.86zM5.41 20L4 18.59l7.72-7.72 1.47 1.35L5.41 20z\"/>\n",
              "  </svg>\n",
              "      </button>\n",
              "      \n",
              "  <style>\n",
              "    .colab-df-container {\n",
              "      display:flex;\n",
              "      flex-wrap:wrap;\n",
              "      gap: 12px;\n",
              "    }\n",
              "\n",
              "    .colab-df-convert {\n",
              "      background-color: #E8F0FE;\n",
              "      border: none;\n",
              "      border-radius: 50%;\n",
              "      cursor: pointer;\n",
              "      display: none;\n",
              "      fill: #1967D2;\n",
              "      height: 32px;\n",
              "      padding: 0 0 0 0;\n",
              "      width: 32px;\n",
              "    }\n",
              "\n",
              "    .colab-df-convert:hover {\n",
              "      background-color: #E2EBFA;\n",
              "      box-shadow: 0px 1px 2px rgba(60, 64, 67, 0.3), 0px 1px 3px 1px rgba(60, 64, 67, 0.15);\n",
              "      fill: #174EA6;\n",
              "    }\n",
              "\n",
              "    [theme=dark] .colab-df-convert {\n",
              "      background-color: #3B4455;\n",
              "      fill: #D2E3FC;\n",
              "    }\n",
              "\n",
              "    [theme=dark] .colab-df-convert:hover {\n",
              "      background-color: #434B5C;\n",
              "      box-shadow: 0px 1px 3px 1px rgba(0, 0, 0, 0.15);\n",
              "      filter: drop-shadow(0px 1px 2px rgba(0, 0, 0, 0.3));\n",
              "      fill: #FFFFFF;\n",
              "    }\n",
              "  </style>\n",
              "\n",
              "      <script>\n",
              "        const buttonEl =\n",
              "          document.querySelector('#df-c15f355d-8f96-41a6-bb22-be6660032319 button.colab-df-convert');\n",
              "        buttonEl.style.display =\n",
              "          google.colab.kernel.accessAllowed ? 'block' : 'none';\n",
              "\n",
              "        async function convertToInteractive(key) {\n",
              "          const element = document.querySelector('#df-c15f355d-8f96-41a6-bb22-be6660032319');\n",
              "          const dataTable =\n",
              "            await google.colab.kernel.invokeFunction('convertToInteractive',\n",
              "                                                     [key], {});\n",
              "          if (!dataTable) return;\n",
              "\n",
              "          const docLinkHtml = 'Like what you see? Visit the ' +\n",
              "            '<a target=\"_blank\" href=https://colab.research.google.com/notebooks/data_table.ipynb>data table notebook</a>'\n",
              "            + ' to learn more about interactive tables.';\n",
              "          element.innerHTML = '';\n",
              "          dataTable['output_type'] = 'display_data';\n",
              "          await google.colab.output.renderOutput(dataTable, element);\n",
              "          const docLink = document.createElement('div');\n",
              "          docLink.innerHTML = docLinkHtml;\n",
              "          element.appendChild(docLink);\n",
              "        }\n",
              "      </script>\n",
              "    </div>\n",
              "  </div>\n",
              "  "
            ],
            "text/plain": [
              "      Unnamed: 0    id_odsp  \\\n",
              "0           9142  2mfCxQlt/   \n",
              "1           9147  2mfCxQlt/   \n",
              "2           9151  2mfCxQlt/   \n",
              "3           9155  2mfCxQlt/   \n",
              "4           9164  2mfCxQlt/   \n",
              "...          ...        ...   \n",
              "1463      940475  G0pLytmF/   \n",
              "1464      940476  G0pLytmF/   \n",
              "1465      940478  G0pLytmF/   \n",
              "1466      940500  G0pLytmF/   \n",
              "1467      940503  G0pLytmF/   \n",
              "\n",
              "                                              link_odsp  adv_stats  \\\n",
              "0     /soccer/spain/primera-division-2011-2012/barce...       True   \n",
              "1     /soccer/spain/primera-division-2011-2012/barce...       True   \n",
              "2     /soccer/spain/primera-division-2011-2012/barce...       True   \n",
              "3     /soccer/spain/primera-division-2011-2012/barce...       True   \n",
              "4     /soccer/spain/primera-division-2011-2012/barce...       True   \n",
              "...                                                 ...        ...   \n",
              "1463     /soccer/spain/laliga/eibar-barcelona-G0pLytmF/       True   \n",
              "1464     /soccer/spain/laliga/eibar-barcelona-G0pLytmF/       True   \n",
              "1465     /soccer/spain/laliga/eibar-barcelona-G0pLytmF/       True   \n",
              "1466     /soccer/spain/laliga/eibar-barcelona-G0pLytmF/       True   \n",
              "1467     /soccer/spain/laliga/eibar-barcelona-G0pLytmF/       True   \n",
              "\n",
              "            date league  season country         ht          at  ...  \\\n",
              "0     2011-08-29    SP1    2012   spain  Barcelona  Villarreal  ...   \n",
              "1     2011-08-29    SP1    2012   spain  Barcelona  Villarreal  ...   \n",
              "2     2011-08-29    SP1    2012   spain  Barcelona  Villarreal  ...   \n",
              "3     2011-08-29    SP1    2012   spain  Barcelona  Villarreal  ...   \n",
              "4     2011-08-29    SP1    2012   spain  Barcelona  Villarreal  ...   \n",
              "...          ...    ...     ...     ...        ...         ...  ...   \n",
              "1463  2017-01-22    SP1    2017   spain      Eibar   Barcelona  ...   \n",
              "1464  2017-01-22    SP1    2017   spain      Eibar   Barcelona  ...   \n",
              "1465  2017-01-22    SP1    2017   spain      Eibar   Barcelona  ...   \n",
              "1466  2017-01-22    SP1    2017   spain      Eibar   Barcelona  ...   \n",
              "1467  2017-01-22    SP1    2017   spain      Eibar   Barcelona  ...   \n",
              "\n",
              "      player_in  player_out           shot_place  shot_outcome  is_goal  \\\n",
              "0           NaN         NaN                  NaN           NaN      0.0   \n",
              "1           NaN         NaN   Bottom left corner     On target      0.0   \n",
              "2           NaN         NaN  Bottom right corner     On target      0.0   \n",
              "3           NaN         NaN                  NaN           NaN      0.0   \n",
              "4           NaN         NaN                  NaN           NaN      0.0   \n",
              "...         ...         ...                  ...           ...      ...   \n",
              "1463        NaN         NaN                  NaN           NaN      0.0   \n",
              "1464        NaN         NaN   Bottom left corner     On target      0.0   \n",
              "1465        NaN         NaN              Blocked       Blocked      0.0   \n",
              "1466        NaN         NaN   Bottom left corner     On target      1.0   \n",
              "1467        NaN         NaN                  NaN           NaN      0.0   \n",
              "\n",
              "                         location   bodypart  assist_method  situation  \\\n",
              "0                             NaN        NaN           None        NaN   \n",
              "1     Difficult angle on the left  left foot           Pass  Open play   \n",
              "2                 Outside the box  left foot           None  Open play   \n",
              "3                  Attacking half        NaN           None        NaN   \n",
              "4                  Attacking half        NaN           None        NaN   \n",
              "...                           ...        ...            ...        ...   \n",
              "1463               Attacking half        NaN           None        NaN   \n",
              "1464              Outside the box  left foot           None  Open play   \n",
              "1465              Outside the box  left foot           Pass  Open play   \n",
              "1466            Centre of the box  left foot   Through ball  Open play   \n",
              "1467               Defensive half        NaN           None        NaN   \n",
              "\n",
              "     fast_break  \n",
              "0           0.0  \n",
              "1           0.0  \n",
              "2           0.0  \n",
              "3           0.0  \n",
              "4           0.0  \n",
              "...         ...  \n",
              "1463        0.0  \n",
              "1464        0.0  \n",
              "1465        0.0  \n",
              "1466        0.0  \n",
              "1467        0.0  \n",
              "\n",
              "[1468 rows x 40 columns]"
            ]
          },
          "execution_count": 10,
          "metadata": {},
          "output_type": "execute_result"
        }
      ],
      "source": [
        "messi_stats = pd.read_csv(\"https://raw.githubusercontent.com/anyoneai/notebooks/main/datasets/lionel_messi_events_stats.csv\")\n",
        "messi_stats"
      ]
    },
    {
      "cell_type": "code",
      "execution_count": null,
      "metadata": {
        "colab": {
          "base_uri": "https://localhost:8080/",
          "height": 423
        },
        "id": "IzARqV1VZDSy",
        "outputId": "b6e98314-b8f7-420b-b46f-808a958b8c02"
      },
      "outputs": [
        {
          "data": {
            "text/html": [
              "\n",
              "  <div id=\"df-3cd2d744-9d68-4011-9562-acd74a12989b\">\n",
              "    <div class=\"colab-df-container\">\n",
              "      <div>\n",
              "<style scoped>\n",
              "    .dataframe tbody tr th:only-of-type {\n",
              "        vertical-align: middle;\n",
              "    }\n",
              "\n",
              "    .dataframe tbody tr th {\n",
              "        vertical-align: top;\n",
              "    }\n",
              "\n",
              "    .dataframe thead th {\n",
              "        text-align: right;\n",
              "    }\n",
              "</style>\n",
              "<table border=\"1\" class=\"dataframe\">\n",
              "  <thead>\n",
              "    <tr style=\"text-align: right;\">\n",
              "      <th></th>\n",
              "      <th>id_odsp</th>\n",
              "      <th>season</th>\n",
              "      <th>is_goal</th>\n",
              "    </tr>\n",
              "  </thead>\n",
              "  <tbody>\n",
              "    <tr>\n",
              "      <th>0</th>\n",
              "      <td>04Oyn4RO/</td>\n",
              "      <td>2015</td>\n",
              "      <td>2.0</td>\n",
              "    </tr>\n",
              "    <tr>\n",
              "      <th>1</th>\n",
              "      <td>0OeqlZA6/</td>\n",
              "      <td>2012</td>\n",
              "      <td>0.0</td>\n",
              "    </tr>\n",
              "    <tr>\n",
              "      <th>2</th>\n",
              "      <td>0QBZCHft/</td>\n",
              "      <td>2013</td>\n",
              "      <td>2.0</td>\n",
              "    </tr>\n",
              "    <tr>\n",
              "      <th>3</th>\n",
              "      <td>0bPZmM0C/</td>\n",
              "      <td>2014</td>\n",
              "      <td>0.0</td>\n",
              "    </tr>\n",
              "    <tr>\n",
              "      <th>4</th>\n",
              "      <td>0dwru1ko/</td>\n",
              "      <td>2012</td>\n",
              "      <td>1.0</td>\n",
              "    </tr>\n",
              "    <tr>\n",
              "      <th>...</th>\n",
              "      <td>...</td>\n",
              "      <td>...</td>\n",
              "      <td>...</td>\n",
              "    </tr>\n",
              "    <tr>\n",
              "      <th>173</th>\n",
              "      <td>zRKLbCHu/</td>\n",
              "      <td>2013</td>\n",
              "      <td>0.0</td>\n",
              "    </tr>\n",
              "    <tr>\n",
              "      <th>174</th>\n",
              "      <td>zet5dC15/</td>\n",
              "      <td>2015</td>\n",
              "      <td>2.0</td>\n",
              "    </tr>\n",
              "    <tr>\n",
              "      <th>175</th>\n",
              "      <td>zgVowLdC/</td>\n",
              "      <td>2016</td>\n",
              "      <td>0.0</td>\n",
              "    </tr>\n",
              "    <tr>\n",
              "      <th>176</th>\n",
              "      <td>zkJ8cNx3/</td>\n",
              "      <td>2013</td>\n",
              "      <td>2.0</td>\n",
              "    </tr>\n",
              "    <tr>\n",
              "      <th>177</th>\n",
              "      <td>zmWaJb0F/</td>\n",
              "      <td>2013</td>\n",
              "      <td>2.0</td>\n",
              "    </tr>\n",
              "  </tbody>\n",
              "</table>\n",
              "<p>178 rows × 3 columns</p>\n",
              "</div>\n",
              "      <button class=\"colab-df-convert\" onclick=\"convertToInteractive('df-3cd2d744-9d68-4011-9562-acd74a12989b')\"\n",
              "              title=\"Convert this dataframe to an interactive table.\"\n",
              "              style=\"display:none;\">\n",
              "        \n",
              "  <svg xmlns=\"http://www.w3.org/2000/svg\" height=\"24px\"viewBox=\"0 0 24 24\"\n",
              "       width=\"24px\">\n",
              "    <path d=\"M0 0h24v24H0V0z\" fill=\"none\"/>\n",
              "    <path d=\"M18.56 5.44l.94 2.06.94-2.06 2.06-.94-2.06-.94-.94-2.06-.94 2.06-2.06.94zm-11 1L8.5 8.5l.94-2.06 2.06-.94-2.06-.94L8.5 2.5l-.94 2.06-2.06.94zm10 10l.94 2.06.94-2.06 2.06-.94-2.06-.94-.94-2.06-.94 2.06-2.06.94z\"/><path d=\"M17.41 7.96l-1.37-1.37c-.4-.4-.92-.59-1.43-.59-.52 0-1.04.2-1.43.59L10.3 9.45l-7.72 7.72c-.78.78-.78 2.05 0 2.83L4 21.41c.39.39.9.59 1.41.59.51 0 1.02-.2 1.41-.59l7.78-7.78 2.81-2.81c.8-.78.8-2.07 0-2.86zM5.41 20L4 18.59l7.72-7.72 1.47 1.35L5.41 20z\"/>\n",
              "  </svg>\n",
              "      </button>\n",
              "      \n",
              "  <style>\n",
              "    .colab-df-container {\n",
              "      display:flex;\n",
              "      flex-wrap:wrap;\n",
              "      gap: 12px;\n",
              "    }\n",
              "\n",
              "    .colab-df-convert {\n",
              "      background-color: #E8F0FE;\n",
              "      border: none;\n",
              "      border-radius: 50%;\n",
              "      cursor: pointer;\n",
              "      display: none;\n",
              "      fill: #1967D2;\n",
              "      height: 32px;\n",
              "      padding: 0 0 0 0;\n",
              "      width: 32px;\n",
              "    }\n",
              "\n",
              "    .colab-df-convert:hover {\n",
              "      background-color: #E2EBFA;\n",
              "      box-shadow: 0px 1px 2px rgba(60, 64, 67, 0.3), 0px 1px 3px 1px rgba(60, 64, 67, 0.15);\n",
              "      fill: #174EA6;\n",
              "    }\n",
              "\n",
              "    [theme=dark] .colab-df-convert {\n",
              "      background-color: #3B4455;\n",
              "      fill: #D2E3FC;\n",
              "    }\n",
              "\n",
              "    [theme=dark] .colab-df-convert:hover {\n",
              "      background-color: #434B5C;\n",
              "      box-shadow: 0px 1px 3px 1px rgba(0, 0, 0, 0.15);\n",
              "      filter: drop-shadow(0px 1px 2px rgba(0, 0, 0, 0.3));\n",
              "      fill: #FFFFFF;\n",
              "    }\n",
              "  </style>\n",
              "\n",
              "      <script>\n",
              "        const buttonEl =\n",
              "          document.querySelector('#df-3cd2d744-9d68-4011-9562-acd74a12989b button.colab-df-convert');\n",
              "        buttonEl.style.display =\n",
              "          google.colab.kernel.accessAllowed ? 'block' : 'none';\n",
              "\n",
              "        async function convertToInteractive(key) {\n",
              "          const element = document.querySelector('#df-3cd2d744-9d68-4011-9562-acd74a12989b');\n",
              "          const dataTable =\n",
              "            await google.colab.kernel.invokeFunction('convertToInteractive',\n",
              "                                                     [key], {});\n",
              "          if (!dataTable) return;\n",
              "\n",
              "          const docLinkHtml = 'Like what you see? Visit the ' +\n",
              "            '<a target=\"_blank\" href=https://colab.research.google.com/notebooks/data_table.ipynb>data table notebook</a>'\n",
              "            + ' to learn more about interactive tables.';\n",
              "          element.innerHTML = '';\n",
              "          dataTable['output_type'] = 'display_data';\n",
              "          await google.colab.output.renderOutput(dataTable, element);\n",
              "          const docLink = document.createElement('div');\n",
              "          docLink.innerHTML = docLinkHtml;\n",
              "          element.appendChild(docLink);\n",
              "        }\n",
              "      </script>\n",
              "    </div>\n",
              "  </div>\n",
              "  "
            ],
            "text/plain": [
              "       id_odsp  season  is_goal\n",
              "0    04Oyn4RO/    2015      2.0\n",
              "1    0OeqlZA6/    2012      0.0\n",
              "2    0QBZCHft/    2013      2.0\n",
              "3    0bPZmM0C/    2014      0.0\n",
              "4    0dwru1ko/    2012      1.0\n",
              "..         ...     ...      ...\n",
              "173  zRKLbCHu/    2013      0.0\n",
              "174  zet5dC15/    2015      2.0\n",
              "175  zgVowLdC/    2016      0.0\n",
              "176  zkJ8cNx3/    2013      2.0\n",
              "177  zmWaJb0F/    2013      2.0\n",
              "\n",
              "[178 rows x 3 columns]"
            ]
          },
          "execution_count": 11,
          "metadata": {},
          "output_type": "execute_result"
        }
      ],
      "source": [
        "goals_per_match = messi_stats.groupby([\"id_odsp\", \"season\"])[\"is_goal\"].sum().reset_index()\n",
        "goals_per_match"
      ]
    },
    {
      "cell_type": "code",
      "execution_count": null,
      "metadata": {
        "colab": {
          "base_uri": "https://localhost:8080/",
          "height": 369
        },
        "id": "Ei5kvMuCZDQP",
        "outputId": "aabc4d03-f67d-411e-8e99-d64896da4e73"
      },
      "outputs": [
        {
          "data": {
            "image/png": "[encoded data removed]",
            "text/plain": [
              "<Figure size 360x360 with 1 Axes>"
            ]
          },
          "metadata": {
            "needs_background": "light"
          },
          "output_type": "display_data"
        }
      ],
      "source": [
        "# Let's take a look at the Empiricail PMF\n",
        "sns.displot(data=goals_per_match, x=\"is_goal\", stat=\"probability\")\n",
        "plt.show()"
      ]
    },
    {
      "cell_type": "code",
      "execution_count": null,
      "metadata": {
        "colab": {
          "base_uri": "https://localhost:8080/",
          "height": 312
        },
        "id": "ErD5FHDmec7q",
        "outputId": "497f1a93-4658-4367-d868-1d85c20dbef3"
      },
      "outputs": [
        {
          "data": {
            "text/plain": [
              "[]"
            ]
          },
          "execution_count": 15,
          "metadata": {},
          "output_type": "execute_result"
        },
        {
          "data": {
            "image/png": "[encoded data removed]",
            "text/plain": [
              "<Figure size 432x288 with 1 Axes>"
            ]
          },
          "metadata": {
            "needs_background": "light"
          },
          "output_type": "display_data"
        }
      ],
      "source": [
        "# And let's also check its Empiricail CDF\n",
        "sns.ecdfplot(data=goals_per_match, x=\"is_goal\").set(\n",
        "    title=\"Cumulative distribution function\",\n",
        "    xlabel=\"Goals in same match\",\n",
        "    ylabel=\"Cumulative probability\",\n",
        ")\n",
        "plt.plot()"
      ]
    },
    {
      "cell_type": "code",
      "execution_count": null,
      "metadata": {
        "colab": {
          "base_uri": "https://localhost:8080/",
          "height": 312
        },
        "id": "TBTt_hVvV2Fx",
        "outputId": "308995b3-e34c-4698-c0ec-06a3766edd80"
      },
      "outputs": [
        {
          "data": {
            "text/plain": [
              "[]"
            ]
          },
          "execution_count": 16,
          "metadata": {},
          "output_type": "execute_result"
        },
        {
          "data": {
            "image/png": "[encoded data removed]",
            "text/plain": [
              "<Figure size 432x288 with 1 Axes>"
            ]
          },
          "metadata": {
            "needs_background": "light"
          },
          "output_type": "display_data"
        }
      ],
      "source": [
        "# And let's also check its Empiricail CDF\n",
        "sns.ecdfplot(data=goals_per_match, x=\"is_goal\", complementary=True).set(\n",
        "    title=\"Cumulative distribution function\",\n",
        "    xlabel=\"Goals in same match\",\n",
        "    ylabel=\"Cumulative probability\",\n",
        ")\n",
        "plt.plot()"
      ]
    },
    {
      "cell_type": "code",
      "execution_count": null,
      "metadata": {
        "colab": {
          "base_uri": "https://localhost:8080/"
        },
        "id": "p9LBoeRUeowO",
        "outputId": "f8a2d0e2-4aba-40cc-bd8f-bb9ece5fd035"
      },
      "outputs": [
        {
          "name": "stdout",
          "output_type": "stream",
          "text": [
            "0.6685393258426966\n",
            "0.9831460674157303\n"
          ]
        },
        {
          "data": {
            "text/plain": [
              "0.696629213483146"
            ]
          },
          "execution_count": 19,
          "metadata": {},
          "output_type": "execute_result"
        }
      ],
      "source": [
        "# And we can modelate the ECDF\n",
        "ecdf_messi_goals = ECDF(goals_per_match.is_goal)\n",
        "\n",
        "# And now we can use it to get cumulative probabilities\n",
        "# For example P(X <= 1), probability of scoring at least a 1 goal\n",
        "print(ecdf_messi_goals(1))\n",
        "\n",
        "# P(X <= 3), probability of scoring at least 3 goals\n",
        "print(ecdf_messi_goals(3))\n",
        "\n",
        "# P(X > 0), probability of scoring 1 or more goals ???\n",
        "ecdf_messi_goals(4) - ecdf_messi_goals(0)"
      ]
    },
    {
      "cell_type": "code",
      "execution_count": null,
      "metadata": {
        "colab": {
          "base_uri": "https://localhost:8080/"
        },
        "id": "tpz9q_kKWa_x",
        "outputId": "cd4d1241-b187-4397-8c4d-c0a3003c0960"
      },
      "outputs": [
        {
          "data": {
            "text/plain": [
              "1.0"
            ]
          },
          "execution_count": 20,
          "metadata": {},
          "output_type": "execute_result"
        }
      ],
      "source": [
        "ecdf_messi_goals(4)"
      ]
    },
    {
      "cell_type": "markdown",
      "metadata": {
        "id": "VXSjFwb7gHU3"
      },
      "source": [
        "# Continuous Random Variable\n",
        "\n",
        "Now let's look at a famous dataset about Heart Disease to work with Continuous Random Variables.\n",
        "\n",
        "- This data set dates from 1988 and consists of four databases: Cleveland, Hungary, Switzerland, and Long Beach V.\n",
        "- It contains 14 attributes.\n",
        "- The \"target\" field refers to the presence of heart disease in the patient. It is integer valued *0 = no disease* and *1 = disease*.\n"
      ]
    },
    {
      "cell_type": "code",
      "execution_count": null,
      "metadata": {
        "colab": {
          "base_uri": "https://localhost:8080/",
          "height": 423
        },
        "id": "lG_Rhk-ZawJa",
        "outputId": "cc412e37-dc8c-47a8-e0df-ea733ebd7b04"
      },
      "outputs": [
        {
          "data": {
            "text/html": [
              "\n",
              "  <div id=\"df-2228cf08-beca-4d89-9f31-28af06775122\">\n",
              "    <div class=\"colab-df-container\">\n",
              "      <div>\n",
              "<style scoped>\n",
              "    .dataframe tbody tr th:only-of-type {\n",
              "        vertical-align: middle;\n",
              "    }\n",
              "\n",
              "    .dataframe tbody tr th {\n",
              "        vertical-align: top;\n",
              "    }\n",
              "\n",
              "    .dataframe thead th {\n",
              "        text-align: right;\n",
              "    }\n",
              "</style>\n",
              "<table border=\"1\" class=\"dataframe\">\n",
              "  <thead>\n",
              "    <tr style=\"text-align: right;\">\n",
              "      <th></th>\n",
              "      <th>age</th>\n",
              "      <th>sex</th>\n",
              "      <th>cp</th>\n",
              "      <th>trtbps</th>\n",
              "      <th>chol</th>\n",
              "      <th>fbs</th>\n",
              "      <th>restecg</th>\n",
              "      <th>thalachh</th>\n",
              "      <th>exng</th>\n",
              "      <th>oldpeak</th>\n",
              "      <th>slp</th>\n",
              "      <th>caa</th>\n",
              "      <th>thall</th>\n",
              "      <th>output</th>\n",
              "    </tr>\n",
              "  </thead>\n",
              "  <tbody>\n",
              "    <tr>\n",
              "      <th>0</th>\n",
              "      <td>63</td>\n",
              "      <td>1</td>\n",
              "      <td>3</td>\n",
              "      <td>145</td>\n",
              "      <td>233</td>\n",
              "      <td>1</td>\n",
              "      <td>0</td>\n",
              "      <td>150</td>\n",
              "      <td>0</td>\n",
              "      <td>2.3</td>\n",
              "      <td>0</td>\n",
              "      <td>0</td>\n",
              "      <td>1</td>\n",
              "      <td>1</td>\n",
              "    </tr>\n",
              "    <tr>\n",
              "      <th>1</th>\n",
              "      <td>37</td>\n",
              "      <td>1</td>\n",
              "      <td>2</td>\n",
              "      <td>130</td>\n",
              "      <td>250</td>\n",
              "      <td>0</td>\n",
              "      <td>1</td>\n",
              "      <td>187</td>\n",
              "      <td>0</td>\n",
              "      <td>3.5</td>\n",
              "      <td>0</td>\n",
              "      <td>0</td>\n",
              "      <td>2</td>\n",
              "      <td>1</td>\n",
              "    </tr>\n",
              "    <tr>\n",
              "      <th>2</th>\n",
              "      <td>41</td>\n",
              "      <td>0</td>\n",
              "      <td>1</td>\n",
              "      <td>130</td>\n",
              "      <td>204</td>\n",
              "      <td>0</td>\n",
              "      <td>0</td>\n",
              "      <td>172</td>\n",
              "      <td>0</td>\n",
              "      <td>1.4</td>\n",
              "      <td>2</td>\n",
              "      <td>0</td>\n",
              "      <td>2</td>\n",
              "      <td>1</td>\n",
              "    </tr>\n",
              "    <tr>\n",
              "      <th>3</th>\n",
              "      <td>56</td>\n",
              "      <td>1</td>\n",
              "      <td>1</td>\n",
              "      <td>120</td>\n",
              "      <td>236</td>\n",
              "      <td>0</td>\n",
              "      <td>1</td>\n",
              "      <td>178</td>\n",
              "      <td>0</td>\n",
              "      <td>0.8</td>\n",
              "      <td>2</td>\n",
              "      <td>0</td>\n",
              "      <td>2</td>\n",
              "      <td>1</td>\n",
              "    </tr>\n",
              "    <tr>\n",
              "      <th>4</th>\n",
              "      <td>57</td>\n",
              "      <td>0</td>\n",
              "      <td>0</td>\n",
              "      <td>120</td>\n",
              "      <td>354</td>\n",
              "      <td>0</td>\n",
              "      <td>1</td>\n",
              "      <td>163</td>\n",
              "      <td>1</td>\n",
              "      <td>0.6</td>\n",
              "      <td>2</td>\n",
              "      <td>0</td>\n",
              "      <td>2</td>\n",
              "      <td>1</td>\n",
              "    </tr>\n",
              "    <tr>\n",
              "      <th>...</th>\n",
              "      <td>...</td>\n",
              "      <td>...</td>\n",
              "      <td>...</td>\n",
              "      <td>...</td>\n",
              "      <td>...</td>\n",
              "      <td>...</td>\n",
              "      <td>...</td>\n",
              "      <td>...</td>\n",
              "      <td>...</td>\n",
              "      <td>...</td>\n",
              "      <td>...</td>\n",
              "      <td>...</td>\n",
              "      <td>...</td>\n",
              "      <td>...</td>\n",
              "    </tr>\n",
              "    <tr>\n",
              "      <th>298</th>\n",
              "      <td>57</td>\n",
              "      <td>0</td>\n",
              "      <td>0</td>\n",
              "      <td>140</td>\n",
              "      <td>241</td>\n",
              "      <td>0</td>\n",
              "      <td>1</td>\n",
              "      <td>123</td>\n",
              "      <td>1</td>\n",
              "      <td>0.2</td>\n",
              "      <td>1</td>\n",
              "      <td>0</td>\n",
              "      <td>3</td>\n",
              "      <td>0</td>\n",
              "    </tr>\n",
              "    <tr>\n",
              "      <th>299</th>\n",
              "      <td>45</td>\n",
              "      <td>1</td>\n",
              "      <td>3</td>\n",
              "      <td>110</td>\n",
              "      <td>264</td>\n",
              "      <td>0</td>\n",
              "      <td>1</td>\n",
              "      <td>132</td>\n",
              "      <td>0</td>\n",
              "      <td>1.2</td>\n",
              "      <td>1</td>\n",
              "      <td>0</td>\n",
              "      <td>3</td>\n",
              "      <td>0</td>\n",
              "    </tr>\n",
              "    <tr>\n",
              "      <th>300</th>\n",
              "      <td>68</td>\n",
              "      <td>1</td>\n",
              "      <td>0</td>\n",
              "      <td>144</td>\n",
              "      <td>193</td>\n",
              "      <td>1</td>\n",
              "      <td>1</td>\n",
              "      <td>141</td>\n",
              "      <td>0</td>\n",
              "      <td>3.4</td>\n",
              "      <td>1</td>\n",
              "      <td>2</td>\n",
              "      <td>3</td>\n",
              "      <td>0</td>\n",
              "    </tr>\n",
              "    <tr>\n",
              "      <th>301</th>\n",
              "      <td>57</td>\n",
              "      <td>1</td>\n",
              "      <td>0</td>\n",
              "      <td>130</td>\n",
              "      <td>131</td>\n",
              "      <td>0</td>\n",
              "      <td>1</td>\n",
              "      <td>115</td>\n",
              "      <td>1</td>\n",
              "      <td>1.2</td>\n",
              "      <td>1</td>\n",
              "      <td>1</td>\n",
              "      <td>3</td>\n",
              "      <td>0</td>\n",
              "    </tr>\n",
              "    <tr>\n",
              "      <th>302</th>\n",
              "      <td>57</td>\n",
              "      <td>0</td>\n",
              "      <td>1</td>\n",
              "      <td>130</td>\n",
              "      <td>236</td>\n",
              "      <td>0</td>\n",
              "      <td>0</td>\n",
              "      <td>174</td>\n",
              "      <td>0</td>\n",
              "      <td>0.0</td>\n",
              "      <td>1</td>\n",
              "      <td>1</td>\n",
              "      <td>2</td>\n",
              "      <td>0</td>\n",
              "    </tr>\n",
              "  </tbody>\n",
              "</table>\n",
              "<p>303 rows × 14 columns</p>\n",
              "</div>\n",
              "      <button class=\"colab-df-convert\" onclick=\"convertToInteractive('df-2228cf08-beca-4d89-9f31-28af06775122')\"\n",
              "              title=\"Convert this dataframe to an interactive table.\"\n",
              "              style=\"display:none;\">\n",
              "        \n",
              "  <svg xmlns=\"http://www.w3.org/2000/svg\" height=\"24px\"viewBox=\"0 0 24 24\"\n",
              "       width=\"24px\">\n",
              "    <path d=\"M0 0h24v24H0V0z\" fill=\"none\"/>\n",
              "    <path d=\"M18.56 5.44l.94 2.06.94-2.06 2.06-.94-2.06-.94-.94-2.06-.94 2.06-2.06.94zm-11 1L8.5 8.5l.94-2.06 2.06-.94-2.06-.94L8.5 2.5l-.94 2.06-2.06.94zm10 10l.94 2.06.94-2.06 2.06-.94-2.06-.94-.94-2.06-.94 2.06-2.06.94z\"/><path d=\"M17.41 7.96l-1.37-1.37c-.4-.4-.92-.59-1.43-.59-.52 0-1.04.2-1.43.59L10.3 9.45l-7.72 7.72c-.78.78-.78 2.05 0 2.83L4 21.41c.39.39.9.59 1.41.59.51 0 1.02-.2 1.41-.59l7.78-7.78 2.81-2.81c.8-.78.8-2.07 0-2.86zM5.41 20L4 18.59l7.72-7.72 1.47 1.35L5.41 20z\"/>\n",
              "  </svg>\n",
              "      </button>\n",
              "      \n",
              "  <style>\n",
              "    .colab-df-container {\n",
              "      display:flex;\n",
              "      flex-wrap:wrap;\n",
              "      gap: 12px;\n",
              "    }\n",
              "\n",
              "    .colab-df-convert {\n",
              "      background-color: #E8F0FE;\n",
              "      border: none;\n",
              "      border-radius: 50%;\n",
              "      cursor: pointer;\n",
              "      display: none;\n",
              "      fill: #1967D2;\n",
              "      height: 32px;\n",
              "      padding: 0 0 0 0;\n",
              "      width: 32px;\n",
              "    }\n",
              "\n",
              "    .colab-df-convert:hover {\n",
              "      background-color: #E2EBFA;\n",
              "      box-shadow: 0px 1px 2px rgba(60, 64, 67, 0.3), 0px 1px 3px 1px rgba(60, 64, 67, 0.15);\n",
              "      fill: #174EA6;\n",
              "    }\n",
              "\n",
              "    [theme=dark] .colab-df-convert {\n",
              "      background-color: #3B4455;\n",
              "      fill: #D2E3FC;\n",
              "    }\n",
              "\n",
              "    [theme=dark] .colab-df-convert:hover {\n",
              "      background-color: #434B5C;\n",
              "      box-shadow: 0px 1px 3px 1px rgba(0, 0, 0, 0.15);\n",
              "      filter: drop-shadow(0px 1px 2px rgba(0, 0, 0, 0.3));\n",
              "      fill: #FFFFFF;\n",
              "    }\n",
              "  </style>\n",
              "\n",
              "      <script>\n",
              "        const buttonEl =\n",
              "          document.querySelector('#df-2228cf08-beca-4d89-9f31-28af06775122 button.colab-df-convert');\n",
              "        buttonEl.style.display =\n",
              "          google.colab.kernel.accessAllowed ? 'block' : 'none';\n",
              "\n",
              "        async function convertToInteractive(key) {\n",
              "          const element = document.querySelector('#df-2228cf08-beca-4d89-9f31-28af06775122');\n",
              "          const dataTable =\n",
              "            await google.colab.kernel.invokeFunction('convertToInteractive',\n",
              "                                                     [key], {});\n",
              "          if (!dataTable) return;\n",
              "\n",
              "          const docLinkHtml = 'Like what you see? Visit the ' +\n",
              "            '<a target=\"_blank\" href=https://colab.research.google.com/notebooks/data_table.ipynb>data table notebook</a>'\n",
              "            + ' to learn more about interactive tables.';\n",
              "          element.innerHTML = '';\n",
              "          dataTable['output_type'] = 'display_data';\n",
              "          await google.colab.output.renderOutput(dataTable, element);\n",
              "          const docLink = document.createElement('div');\n",
              "          docLink.innerHTML = docLinkHtml;\n",
              "          element.appendChild(docLink);\n",
              "        }\n",
              "      </script>\n",
              "    </div>\n",
              "  </div>\n",
              "  "
            ],
            "text/plain": [
              "     age  sex  cp  trtbps  chol  fbs  restecg  thalachh  exng  oldpeak  slp  \\\n",
              "0     63    1   3     145   233    1        0       150     0      2.3    0   \n",
              "1     37    1   2     130   250    0        1       187     0      3.5    0   \n",
              "2     41    0   1     130   204    0        0       172     0      1.4    2   \n",
              "3     56    1   1     120   236    0        1       178     0      0.8    2   \n",
              "4     57    0   0     120   354    0        1       163     1      0.6    2   \n",
              "..   ...  ...  ..     ...   ...  ...      ...       ...   ...      ...  ...   \n",
              "298   57    0   0     140   241    0        1       123     1      0.2    1   \n",
              "299   45    1   3     110   264    0        1       132     0      1.2    1   \n",
              "300   68    1   0     144   193    1        1       141     0      3.4    1   \n",
              "301   57    1   0     130   131    0        1       115     1      1.2    1   \n",
              "302   57    0   1     130   236    0        0       174     0      0.0    1   \n",
              "\n",
              "     caa  thall  output  \n",
              "0      0      1       1  \n",
              "1      0      2       1  \n",
              "2      0      2       1  \n",
              "3      0      2       1  \n",
              "4      0      2       1  \n",
              "..   ...    ...     ...  \n",
              "298    0      3       0  \n",
              "299    0      3       0  \n",
              "300    2      3       0  \n",
              "301    1      3       0  \n",
              "302    1      2       0  \n",
              "\n",
              "[303 rows x 14 columns]"
            ]
          },
          "execution_count": 21,
          "metadata": {},
          "output_type": "execute_result"
        }
      ],
      "source": [
        "heart = pd.read_csv(\"https://raw.githubusercontent.com/anyoneai/notebooks/main/datasets/heart.csv\")\n",
        "heart"
      ]
    },
    {
      "cell_type": "code",
      "execution_count": null,
      "metadata": {
        "colab": {
          "base_uri": "https://localhost:8080/",
          "height": 386
        },
        "id": "xBvUnhYKawDb",
        "outputId": "1cbe9ac2-fbaf-49c0-a0ab-8b00478d172f"
      },
      "outputs": [
        {
          "data": {
            "text/plain": [
              "<seaborn.axisgrid.FacetGrid at 0x7f96c4f6ac90>"
            ]
          },
          "execution_count": 22,
          "metadata": {},
          "output_type": "execute_result"
        },
        {
          "data": {
            "image/png": "[encoded data removed]",
            "text/plain": [
              "<Figure size 360x360 with 1 Axes>"
            ]
          },
          "metadata": {
            "needs_background": "light"
          },
          "output_type": "display_data"
        }
      ],
      "source": [
        "# Let's look at the cholesterol variable (chol)\n",
        "sns.displot(data=heart, x=\"chol\", kind='hist', bins=50)"
      ]
    },
    {
      "cell_type": "code",
      "execution_count": null,
      "metadata": {
        "colab": {
          "base_uri": "https://localhost:8080/"
        },
        "id": "1Z2bTSrES6b7",
        "outputId": "c482be91-637d-45ae-df6c-de37be27be32"
      },
      "outputs": [
        {
          "data": {
            "text/plain": [
              "(246.26402640264027, 51.83075098793003)"
            ]
          },
          "execution_count": 23,
          "metadata": {},
          "output_type": "execute_result"
        }
      ],
      "source": [
        "# We can comput the empirical mean and\n",
        "# standard deviation using Numpy\n",
        "heart[\"chol\"].mean(), heart[\"chol\"].std()"
      ]
    },
    {
      "cell_type": "code",
      "execution_count": null,
      "metadata": {
        "colab": {
          "base_uri": "https://localhost:8080/"
        },
        "id": "QrDtjmS62BHi",
        "outputId": "461bf6cd-a59a-42d8-e294-b27b3f5a4592"
      },
      "outputs": [
        {
          "data": {
            "text/plain": [
              "0.34269474270761285"
            ]
          },
          "execution_count": 24,
          "metadata": {},
          "output_type": "execute_result"
        }
      ],
      "source": [
        "# Now we can use Scipy.stats.norm to create a normal random variable\n",
        "# from our sample mean and std\n",
        "X = stats.norm(loc=heart[\"chol\"].mean(), scale=heart[\"chol\"].std())\n",
        "\n",
        "# What is the probability of the value lying in the interval [250,200]?\n",
        "X.cdf(250) - X.cdf(200)"
      ]
    },
    {
      "cell_type": "markdown",
      "metadata": {
        "id": "RsdrHhYtkk_O"
      },
      "source": [
        "We can also use Matplotlib/Seaborn to plot our Normal distribution PDF and compare with the sample distribution."
      ]
    },
    {
      "cell_type": "code",
      "execution_count": null,
      "metadata": {
        "colab": {
          "base_uri": "https://localhost:8080/",
          "height": 507
        },
        "id": "eQBf0hAI2BFH",
        "outputId": "3f2400c3-9ef0-4d3f-a1a1-ef15a61553c3"
      },
      "outputs": [
        {
          "data": {
            "image/png": "[encoded data removed]",
            "text/plain": [
              "<Figure size 1080x576 with 1 Axes>"
            ]
          },
          "metadata": {
            "needs_background": "light"
          },
          "output_type": "display_data"
        }
      ],
      "source": [
        "plt.rcParams['figure.figsize'] = 15, 8\n",
        "plt.rcParams.update({'font.size': 14})\n",
        "fig, ax = plt.subplots(1, 1)\n",
        "\n",
        "x = heart[\"chol\"].sort_values()\n",
        "ax.plot(x, X.pdf(x), 'r-', lw=5, alpha=0.6, label=\"PDF\")\n",
        "ax.hist(x, bins=50, density=True, histtype='stepfilled', alpha=0.5, label=\"Sample Distribution\")\n",
        "\n",
        "ax.legend(loc='best', frameon=False)\n",
        "plt.figtext(.78, .3, f'Mean: {heart[\"chol\"].mean():.2f}\\n\\nStd: {heart[\"chol\"].std():.2f}')\n",
        "plt.title(\"Patient serum cholesterol [mm/dl]\")\n",
        "plt.show()\n"
      ]
    }
  ],
  "metadata": {
    "colab": {
      "provenance": []
    },
    "kernelspec": {
      "display_name": "Python 3",
      "name": "python3"
    },
    "language_info": {
      "name": "python"
    }
  },
  "nbformat": 4,
  "nbformat_minor": 0
}
